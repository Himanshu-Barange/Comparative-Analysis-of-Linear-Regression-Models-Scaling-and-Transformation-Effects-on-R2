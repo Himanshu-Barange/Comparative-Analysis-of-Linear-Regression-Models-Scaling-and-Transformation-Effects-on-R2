{
  "cells": [
    {
      "cell_type": "markdown",
      "metadata": {
        "id": "view-in-github",
        "colab_type": "text"
      },
      "source": [
        "<a href=\"https://colab.research.google.com/github/Himanshu-Barange/Comparative-Analysis-of-Linear-Regression-Models-Scaling-and-Transformation-Effects-on-R2/blob/main/Scaling_and_Transformation_Effects_on_R2.ipynb\" target=\"_parent\"><img src=\"https://colab.research.google.com/assets/colab-badge.svg\" alt=\"Open In Colab\"/></a>"
      ]
    },
    {
      "cell_type": "code",
      "execution_count": null,
      "id": "284238de",
      "metadata": {
        "id": "284238de"
      },
      "outputs": [],
      "source": [
        "import seaborn as sns\n",
        "import matplotlib.pyplot as plt\n",
        "import pandas as pd\n",
        "import numpy as np\n",
        "from scipy import stats\n",
        "from sklearn.linear_model import LinearRegression\n",
        "from sklearn.model_selection import train_test_split\n",
        "from sklearn import metrics\n",
        "from sklearn import preprocessing\n",
        "\n",
        "pd.set_option('display.float_format', '{:.3f}'.format)"
      ]
    },
    {
      "cell_type": "code",
      "execution_count": null,
      "id": "511c25ce",
      "metadata": {
        "id": "511c25ce",
        "outputId": "aaac66b4-e346-4441-a765-c85146f21a79"
      },
      "outputs": [
        {
          "data": {
            "text/html": [
              "<div>\n",
              "<style scoped>\n",
              "    .dataframe tbody tr th:only-of-type {\n",
              "        vertical-align: middle;\n",
              "    }\n",
              "\n",
              "    .dataframe tbody tr th {\n",
              "        vertical-align: top;\n",
              "    }\n",
              "\n",
              "    .dataframe thead th {\n",
              "        text-align: right;\n",
              "    }\n",
              "</style>\n",
              "<table border=\"1\" class=\"dataframe\">\n",
              "  <thead>\n",
              "    <tr style=\"text-align: right;\">\n",
              "      <th></th>\n",
              "      <th>total_bill</th>\n",
              "      <th>tip</th>\n",
              "      <th>sex</th>\n",
              "      <th>smoker</th>\n",
              "      <th>day</th>\n",
              "      <th>time</th>\n",
              "      <th>size</th>\n",
              "    </tr>\n",
              "  </thead>\n",
              "  <tbody>\n",
              "    <tr>\n",
              "      <th>0</th>\n",
              "      <td>16.990</td>\n",
              "      <td>1.010</td>\n",
              "      <td>Female</td>\n",
              "      <td>No</td>\n",
              "      <td>Sun</td>\n",
              "      <td>Dinner</td>\n",
              "      <td>2</td>\n",
              "    </tr>\n",
              "    <tr>\n",
              "      <th>1</th>\n",
              "      <td>10.340</td>\n",
              "      <td>1.660</td>\n",
              "      <td>Male</td>\n",
              "      <td>No</td>\n",
              "      <td>Sun</td>\n",
              "      <td>Dinner</td>\n",
              "      <td>3</td>\n",
              "    </tr>\n",
              "  </tbody>\n",
              "</table>\n",
              "</div>"
            ],
            "text/plain": [
              "   total_bill   tip     sex smoker  day    time  size\n",
              "0      16.990 1.010  Female     No  Sun  Dinner     2\n",
              "1      10.340 1.660    Male     No  Sun  Dinner     3"
            ]
          },
          "execution_count": 2,
          "metadata": {},
          "output_type": "execute_result"
        }
      ],
      "source": [
        "tips = sns.load_dataset('tips')\n",
        "tips.head(2)"
      ]
    },
    {
      "cell_type": "markdown",
      "id": "b4fb646d",
      "metadata": {
        "id": "b4fb646d"
      },
      "source": [
        "## Variables on the Original Scale"
      ]
    },
    {
      "cell_type": "code",
      "execution_count": null,
      "id": "1151fbbc",
      "metadata": {
        "id": "1151fbbc",
        "outputId": "a94e9a14-2789-4e6a-94d5-045764df5f57"
      },
      "outputs": [
        {
          "name": "stdout",
          "output_type": "stream",
          "text": [
            "B1: [0.10591773]\n",
            "mae: 0.7349165516090287 \n",
            "rmse: 1.000587083819576 \n",
            "r2: 0.500034961893518\n"
          ]
        }
      ],
      "source": [
        "X1 = tips[['total_bill']]\n",
        "y1 = tips['tip']\n",
        "\n",
        "X_train1, X_test1, y_train1, y_test1 = train_test_split(X1, y1, test_size = 0.2, random_state = 25)\n",
        "\n",
        "regressor = LinearRegression().fit(X_train1, y_train1)\n",
        "\n",
        "y_pred1 = regressor.predict(X_test1)\n",
        "\n",
        "\n",
        "B1 = regressor.coef_\n",
        "mae = metrics.mean_absolute_error(y_test1, y_pred1)\n",
        "rmse = metrics.mean_squared_error(y_test1, y_pred1)**0.5\n",
        "r2 = metrics.r2_score(y_test1, y_pred1)\n",
        "\n",
        "print(f'B1: {B1}\\nmae: {mae} \\nrmse: {rmse} \\nr2: {r2}')\n"
      ]
    },
    {
      "cell_type": "markdown",
      "id": "3a171503",
      "metadata": {
        "id": "3a171503"
      },
      "source": [
        "## Variables on Standard Scale"
      ]
    },
    {
      "cell_type": "code",
      "execution_count": null,
      "id": "709183e0",
      "metadata": {
        "id": "709183e0",
        "outputId": "a0292010-0bfb-4485-f620-0131023b9ea2"
      },
      "outputs": [
        {
          "name": "stdout",
          "output_type": "stream",
          "text": [
            "B1: [[0.68148111]]\n",
            "mae: 0.5322396988576125 \n",
            "rmse: 0.7246430455362263 \n",
            "r2: 0.5000349618935179\n"
          ]
        }
      ],
      "source": [
        "X2 = preprocessing.StandardScaler().fit_transform(tips[['total_bill']])\n",
        "X2 = pd.DataFrame(data = X2, index = tips.index, columns = ['total_bill'])\n",
        "y2 = preprocessing.StandardScaler().fit_transform(tips[['tip']])\n",
        "y2 = pd.DataFrame(data = y2, index = tips.index, columns = ['tip'])\n",
        "\n",
        "X_train2, X_test2, y_train2, y_test2 = train_test_split(X2, y2, test_size = 0.2, random_state = 25)\n",
        "\n",
        "regressor = LinearRegression().fit(X_train2, y_train2)\n",
        "\n",
        "y_pred2 = regressor.predict(X_test2)\n",
        "\n",
        "B1 = regressor.coef_\n",
        "mae = metrics.mean_absolute_error(y_test2, y_pred2)\n",
        "rmse = metrics.mean_squared_error(y_test2, y_pred2)**0.5\n",
        "r2 = metrics.r2_score(y_test2, y_pred2)\n",
        "\n",
        "print(f'B1: {B1}\\nmae: {mae} \\nrmse: {rmse} \\nr2: {r2}')"
      ]
    },
    {
      "cell_type": "markdown",
      "id": "02919122",
      "metadata": {
        "id": "02919122"
      },
      "source": [
        "## y on log scale"
      ]
    },
    {
      "cell_type": "code",
      "execution_count": null,
      "id": "1a3cce65",
      "metadata": {
        "id": "1a3cce65",
        "outputId": "449f984e-69bd-4ad9-b95d-02207d225b85"
      },
      "outputs": [
        {
          "name": "stdout",
          "output_type": "stream",
          "text": [
            "B1: [0.03225789]\n",
            "mae: 0.23938047483031602 \n",
            "rmse: 0.3036544985588842 \n",
            "r2: 0.49677667000601566\n"
          ]
        }
      ],
      "source": [
        "X3 = tips[['total_bill']]\n",
        "y3 = np.log(tips.tip)\n",
        "\n",
        "X_train3, X_test3, y_train3, y_test3 = train_test_split(X3, y3, test_size = 0.2, random_state = 25)\n",
        "\n",
        "regressor = LinearRegression().fit(X_train3, y_train3)\n",
        "\n",
        "y_pred3 = regressor.predict(X_test3)\n",
        "\n",
        "B1 = regressor.coef_\n",
        "mae = metrics.mean_absolute_error(y_test3, y_pred3)\n",
        "rmse = metrics.mean_squared_error(y_test3, y_pred3)**0.5\n",
        "r2 = metrics.r2_score(y_test3, y_pred3)\n",
        "\n",
        "print(f'B1: {B1}\\nmae: {mae} \\nrmse: {rmse} \\nr2: {r2}')"
      ]
    },
    {
      "cell_type": "markdown",
      "id": "debf5a12",
      "metadata": {
        "id": "debf5a12"
      },
      "source": [
        "## x on log scale"
      ]
    },
    {
      "cell_type": "code",
      "execution_count": null,
      "id": "5df8cd11",
      "metadata": {
        "id": "5df8cd11",
        "outputId": "c4fca12c-b1b9-4111-a863-f6458df0b4b9"
      },
      "outputs": [
        {
          "name": "stdout",
          "output_type": "stream",
          "text": [
            "B1: [2.03272054]\n",
            "mae: 0.7326566555312946 \n",
            "rmse: 1.0321835591099917 \n",
            "r2: 0.46796068537684865\n"
          ]
        }
      ],
      "source": [
        "X4 = pd.DataFrame(data = np.log(tips.total_bill), index = tips.index)\n",
        "y4 = tips['tip']\n",
        "\n",
        "X_train4, X_test4, y_train4, y_test4 = train_test_split(X4, y4, test_size = 0.2, random_state = 25)\n",
        "\n",
        "regressor = LinearRegression().fit(X_train4, y_train4)\n",
        "\n",
        "y_pred4 = regressor.predict(X_test4)\n",
        "\n",
        "B1 = regressor.coef_\n",
        "mae = metrics.mean_absolute_error(y_test4, y_pred4)\n",
        "rmse = metrics.mean_squared_error(y_test4, y_pred4)**0.5\n",
        "r2 = metrics.r2_score(y_test4, y_pred4)\n",
        "\n",
        "print(f'B1: {B1}\\nmae: {mae} \\nrmse: {rmse} \\nr2: {r2}')"
      ]
    },
    {
      "cell_type": "markdown",
      "id": "9f946b17",
      "metadata": {
        "id": "9f946b17"
      },
      "source": [
        "## y and x both on log scale"
      ]
    },
    {
      "cell_type": "code",
      "execution_count": null,
      "id": "0cfc926c",
      "metadata": {
        "id": "0cfc926c",
        "outputId": "edd57d9e-edbc-44ea-81fa-dca2c3190337"
      },
      "outputs": [
        {
          "name": "stdout",
          "output_type": "stream",
          "text": [
            "B1: [0.66960162]\n",
            "mae: 0.23486403668272082 \n",
            "rmse: 0.2947884106093769 \n",
            "r2: 0.5257338382160999\n"
          ]
        }
      ],
      "source": [
        "X5 = pd.DataFrame(data = np.log(tips.total_bill), index = tips.index)\n",
        "y5 = np.log(tips['tip'])\n",
        "\n",
        "X_train5, X_test5, y_train5, y_test5 = train_test_split(X5, y5, test_size = 0.2, random_state = 25)\n",
        "\n",
        "regressor = LinearRegression().fit(X_train5, y_train5)\n",
        "\n",
        "y_pred5 = regressor.predict(X_test5)\n",
        "\n",
        "B1 = regressor.coef_\n",
        "mae = metrics.mean_absolute_error(y_test5, y_pred5)\n",
        "rmse = metrics.mean_squared_error(y_test5, y_pred5)**0.5\n",
        "r2 = metrics.r2_score(y_test5, y_pred5)\n",
        "\n",
        "print(f'B1: {B1}\\nmae: {mae} \\nrmse: {rmse} \\nr2: {r2}')"
      ]
    },
    {
      "cell_type": "markdown",
      "id": "f728c20e",
      "metadata": {
        "id": "f728c20e"
      },
      "source": [
        "## Multiple Regression on Tip Using Total Bill and Party Size"
      ]
    },
    {
      "cell_type": "code",
      "execution_count": null,
      "id": "2314fff8",
      "metadata": {
        "id": "2314fff8",
        "outputId": "699b11ba-d000-4363-a376-409f01664d63"
      },
      "outputs": [
        {
          "name": "stdout",
          "output_type": "stream",
          "text": [
            "B1: [0.0941918  0.18532946]\n",
            "mae: 0.743802977139696 \n",
            "rmse: 0.9826565668122316 \n",
            "r2: 0.5177931534173603\n"
          ]
        }
      ],
      "source": [
        "X6 = tips[['total_bill', 'size']]\n",
        "y6 = tips['tip']\n",
        "\n",
        "X_train6, X_test6, y_train6, y_test6 = train_test_split(X6, y6, test_size = 0.2, random_state = 25)\n",
        "\n",
        "regressor = LinearRegression().fit(X_train6, y_train6)\n",
        "\n",
        "y_pred6 = regressor.predict(X_test6)\n",
        "\n",
        "B1 = regressor.coef_\n",
        "mae = metrics.mean_absolute_error(y_test6, y_pred6)\n",
        "rmse = metrics.mean_squared_error(y_test6, y_pred6)**0.5\n",
        "r2 = metrics.r2_score(y_test6, y_pred6)\n",
        "\n",
        "print(f'B1: {B1}\\nmae: {mae} \\nrmse: {rmse} \\nr2: {r2}')"
      ]
    },
    {
      "cell_type": "markdown",
      "id": "7d6870a2",
      "metadata": {
        "id": "7d6870a2"
      },
      "source": [
        "## Multiple Regression on z-scaled Tip using z-scaled Total Bill and z-scaled Party Size"
      ]
    },
    {
      "cell_type": "code",
      "execution_count": null,
      "id": "1dceca50",
      "metadata": {
        "id": "1dceca50",
        "outputId": "f5b659d2-f573-47ed-8790-854421bc7aac"
      },
      "outputs": [
        {
          "name": "stdout",
          "output_type": "stream",
          "text": [
            "B1: [[0.60603575 0.12739372]]\n",
            "mae: 0.5386754070179577 \n",
            "rmse: 0.7116574447201117 \n",
            "r2: 0.5177931534173602\n"
          ]
        }
      ],
      "source": [
        "X7 = preprocessing.StandardScaler().fit_transform(tips[['total_bill', 'size']])\n",
        "y7 = preprocessing.StandardScaler().fit_transform(tips[['tip']])\n",
        "\n",
        "X_train7, X_test7, y_train7, y_test7 = train_test_split(X7, y7, test_size = 0.2, random_state = 25)\n",
        "\n",
        "regressor = LinearRegression().fit(X_train7, y_train7)\n",
        "\n",
        "y_pred7 = regressor.predict(X_test7)\n",
        "\n",
        "B1 = regressor.coef_\n",
        "mae = metrics.mean_absolute_error(y_test7, y_pred7)\n",
        "rmse = metrics.mean_squared_error(y_test7, y_pred7)**0.5\n",
        "r2 = metrics.r2_score(y_test7, y_pred7)\n",
        "\n",
        "print(f'B1: {B1}\\nmae: {mae} \\nrmse: {rmse} \\nr2: {r2}')"
      ]
    },
    {
      "cell_type": "markdown",
      "id": "2b2e605f",
      "metadata": {
        "id": "2b2e605f"
      },
      "source": [
        "## Conclusion"
      ]
    },
    {
      "cell_type": "markdown",
      "id": "c9658001",
      "metadata": {
        "id": "c9658001"
      },
      "source": [
        "$$\n",
        "\\beta_i = \\frac{\\sum(x_i - \\bar x)(y_i - \\bar y)}{(x_i - \\bar x)^2}\n",
        "$$"
      ]
    },
    {
      "cell_type": "code",
      "execution_count": null,
      "id": "61aefbf2",
      "metadata": {
        "id": "61aefbf2",
        "outputId": "36125c8b-9f14-4b8b-e767-9bb469dfe61e"
      },
      "outputs": [
        {
          "data": {
            "text/html": [
              "<div>\n",
              "<style scoped>\n",
              "    .dataframe tbody tr th:only-of-type {\n",
              "        vertical-align: middle;\n",
              "    }\n",
              "\n",
              "    .dataframe tbody tr th {\n",
              "        vertical-align: top;\n",
              "    }\n",
              "\n",
              "    .dataframe thead th {\n",
              "        text-align: right;\n",
              "    }\n",
              "</style>\n",
              "<table border=\"1\" class=\"dataframe\">\n",
              "  <thead>\n",
              "    <tr style=\"text-align: right;\">\n",
              "      <th></th>\n",
              "      <th>Dependent</th>\n",
              "      <th>Independent1</th>\n",
              "      <th>Independent2</th>\n",
              "      <th>r2</th>\n",
              "    </tr>\n",
              "  </thead>\n",
              "  <tbody>\n",
              "    <tr>\n",
              "      <th>1</th>\n",
              "      <td>original</td>\n",
              "      <td>original</td>\n",
              "      <td></td>\n",
              "      <td>0.500</td>\n",
              "    </tr>\n",
              "    <tr>\n",
              "      <th>2</th>\n",
              "      <td>z-scale</td>\n",
              "      <td>z-scale</td>\n",
              "      <td></td>\n",
              "      <td>0.500</td>\n",
              "    </tr>\n",
              "    <tr>\n",
              "      <th>3</th>\n",
              "      <td>log</td>\n",
              "      <td>original</td>\n",
              "      <td></td>\n",
              "      <td>0.497</td>\n",
              "    </tr>\n",
              "    <tr>\n",
              "      <th>4</th>\n",
              "      <td>original</td>\n",
              "      <td>log</td>\n",
              "      <td></td>\n",
              "      <td>0.468</td>\n",
              "    </tr>\n",
              "    <tr>\n",
              "      <th>5</th>\n",
              "      <td>log</td>\n",
              "      <td>log</td>\n",
              "      <td></td>\n",
              "      <td>0.526</td>\n",
              "    </tr>\n",
              "    <tr>\n",
              "      <th>6</th>\n",
              "      <td>original</td>\n",
              "      <td>original</td>\n",
              "      <td>original</td>\n",
              "      <td>0.518</td>\n",
              "    </tr>\n",
              "    <tr>\n",
              "      <th>7</th>\n",
              "      <td>z-scale</td>\n",
              "      <td>z-scale</td>\n",
              "      <td>z-scale</td>\n",
              "      <td>0.518</td>\n",
              "    </tr>\n",
              "  </tbody>\n",
              "</table>\n",
              "</div>"
            ],
            "text/plain": [
              "  Dependent Independent1 Independent2    r2\n",
              "1  original     original              0.500\n",
              "2   z-scale      z-scale              0.500\n",
              "3       log     original              0.497\n",
              "4  original          log              0.468\n",
              "5       log          log              0.526\n",
              "6  original     original     original 0.518\n",
              "7   z-scale      z-scale      z-scale 0.518"
            ]
          },
          "metadata": {},
          "output_type": "display_data"
        },
        {
          "name": "stdout",
          "output_type": "stream",
          "text": [
            "\n",
            "1. We take the first case here as the base case which gives r2 0.500.\n",
            "2. In the second case, z-scaling the variables doesn't affect the r2, as r2 is not affected if y and x are transformed to the same scale.\n",
            "    - R2 is influenced by the deviations of points by their mean, as we next see. \n",
            "    - But if you keep one variable to the original scale and transform the other to a different scale then r2 will definitely change and \n",
            "        the magnitude of change will depend on the new scale of the variable.\n",
            "    - For example if one of your variable is on  meter scale and you take it to cm scale, then the new scale will produce larger deviations about the mean.\n",
            "    - z-scale is not much useful for the simple linear regression case, it is helpful in multiple regression as it allows you to compare the slopes of the different\n",
            "        predictors, as we will see later in this discussion.\n",
            "3. Taking log(y) improves the r2 a little bit as log reduces the deviation of points about their mean and that makes the parameter smaller, giving smaller errors.\n",
            "4. Keeping y on original scale and X on log scale increase the magnitude of the slope parameter which gives larger residual sum of squares thereby\n",
            "    reducing r2.\n",
            "5. Taking log of y and x both, improves the r2 because they are transformed to the same relative scale as before, but in this scale larger deviations about the mean\n",
            "    are much fewer than their previous scales, which gives a more balanced slope parameter, producing lesser residual sum of sqaures and so giving higher r2.\n",
            "6. Including more predictor variables always increases r2, but the increase depends on how much the new predictor affects the response linearly.\n",
            "7. In multiple regression, looking at the size of the betas, we cannot say for sure that the largest beta predictor is the best predictor becuase all predictors are\n",
            "    on different scales.\n",
            "    - So for comparing which predictor has the largest slope parameter we can transform all of them to z-scale.\n",
            "    - For example, if the z-scaled beta of a variable x1 is 0.4, that means a one standard deviation increase in x1 produces a 0.4 standard deviations increase in z-scaled y.\n",
            "    - This way we can say that the predictor with larger coefficient produces larger standard deviations in the response.\n",
            "    \n",
            "\n"
          ]
        }
      ],
      "source": [
        "result = pd.DataFrame(data = {\n",
        "                              'Dependent': ['original', 'z-scale', 'log', 'original', 'log', 'original', 'z-scale'],\n",
        "                              'Independent1': ['original', 'z-scale', 'original', 'log', 'log', 'original', 'z-scale'],\n",
        "                              'Independent2':['', '', '', '', '', 'original', 'z-scale'],\n",
        "                              'r2': [0.500034961893518, 0.5000349618935179, 0.49677667000601566, 0.46796068537684865, 0.5257338382160999, 0.5177931534173603, 0.5177931534173602]},\n",
        "                     index = range(1, 8))\n",
        "display(result)\n",
        "print('''\n",
        "1. We take the first case here as the base case which gives r2 0.500.\n",
        "2. In the second case, z-scaling the variables doesn't affect the r2, as r2 is not affected if y and x are transformed to the same scale.\n",
        "    - R2 is influenced by the deviations of points by their mean, as we next see.\n",
        "    - But if you keep one variable to the original scale and transform the other to a different scale then r2 will definitely change and\n",
        "        the magnitude of change will depend on the new scale of the variable.\n",
        "    - For example if one of your variable is on  meter scale and you take it to cm scale, then the new scale will produce larger deviations about the mean.\n",
        "    - z-scale is not much useful for the simple linear regression case, it is helpful in multiple regression as it allows you to compare the slopes of the different\n",
        "        predictors, as we will see later in this discussion.\n",
        "3. Taking log(y) improves the r2 a little bit as log reduces the deviation of points about their mean and that makes the parameter smaller, giving smaller errors.\n",
        "4. Keeping y on original scale and X on log scale increase the magnitude of the slope parameter which gives larger residual sum of squares thereby\n",
        "    reducing r2.\n",
        "5. Taking log of y and x both, improves the r2 because they are transformed to the same relative scale as before, but in this scale larger deviations about the mean\n",
        "    are much fewer than their previous scales, which gives a more balanced slope parameter, producing lesser residual sum of sqaures and so giving higher r2.\n",
        "6. Including more predictor variables always increases r2, but the increase depends on how much the new predictor affects the response linearly.\n",
        "7. In multiple regression, looking at the size of the betas, we cannot say for sure that the largest beta predictor is the best predictor becuase all predictors are\n",
        "    on different scales.\n",
        "    - So for comparing which predictor has the largest slope parameter we can transform all of them to z-scale.\n",
        "    - For example, if the z-scaled beta of a variable x1 is 0.4, that means a one standard deviation increase in x1 produces a 0.4 standard deviations increase in z-scaled y.\n",
        "    - This way we can say that the predictor with larger coefficient produces larger standard deviations in the response.\n",
        "\n",
        "''')"
      ]
    },
    {
      "cell_type": "code",
      "execution_count": null,
      "id": "3d9fcac1",
      "metadata": {
        "id": "3d9fcac1",
        "outputId": "e7018abd-0998-423c-89f8-4fd65a52a38d"
      },
      "outputs": [
        {
          "data": {
            "image/png": "[encoded data removed]",
            "text/plain": [
              "<Figure size 1000x600 with 5 Axes>"
            ]
          },
          "metadata": {},
          "output_type": "display_data"
        }
      ],
      "source": [
        "import matplotlib.pyplot as plt\n",
        "\n",
        "fig, ax = plt.subplots(2, 3, figsize=(10, 6))\n",
        "\n",
        "for i in range(2):\n",
        "    if i == 0:\n",
        "        p = str(1)\n",
        "    if i == 1:\n",
        "        p = str(4)\n",
        "    for j in range(3):\n",
        "        if i == 1 and j == 2:\n",
        "            break\n",
        "        p = str(p)\n",
        "        X_test = globals()['X_test' + str(p)]\n",
        "        y_pred = globals()['y_pred' + str(p)]\n",
        "        y_test = globals()['y_test' + str(p)]\n",
        "        ax[i, j].scatter(X_test, y_test, label='y_test')\n",
        "        ax[i, j].plot(X_test, y_pred, color='red', label='y_pred')\n",
        "        ax[i, j].set_title(f\"\")\n",
        "        ax[i, j].set_xlabel('')\n",
        "        ax[i, j].set_ylabel('')\n",
        "#         ax[i, j].grid(True)\n",
        "#         ax[i, j].legend()\n",
        "        p = int(p)\n",
        "        p += 1\n",
        "\n",
        "fig.delaxes(ax[1, 2])\n",
        "plt.tight_layout()\n",
        "plt.show()\n"
      ]
    },
    {
      "cell_type": "markdown",
      "id": "67e06748",
      "metadata": {
        "id": "67e06748"
      },
      "source": [
        "1. The above plots can't be compared because they all have variables on different scales.\n",
        "    - For example, in the first plot it seems that the slope is very near 1, but in reality the slope is 0.1 which is very flat.\n",
        "    - The first and the last plots can be arranged to show the true scale of regression line, but I am not doing that because the same is not possible for the other three graphs.\n",
        "2. But I created them the sake of completeness of the analysis."
      ]
    }
  ],
  "metadata": {
    "kernelspec": {
      "display_name": "Python 3 (ipykernel)",
      "language": "python",
      "name": "python3"
    },
    "language_info": {
      "codemirror_mode": {
        "name": "ipython",
        "version": 3
      },
      "file_extension": ".py",
      "mimetype": "text/x-python",
      "name": "python",
      "nbconvert_exporter": "python",
      "pygments_lexer": "ipython3",
      "version": "3.11.3"
    },
    "toc": {
      "base_numbering": 1,
      "nav_menu": {},
      "number_sections": true,
      "sideBar": true,
      "skip_h1_title": false,
      "title_cell": "Table of Contents",
      "title_sidebar": "Contents",
      "toc_cell": false,
      "toc_position": {},
      "toc_section_display": true,
      "toc_window_display": false
    },
    "colab": {
      "provenance": [],
      "include_colab_link": true
    }
  },
  "nbformat": 4,
  "nbformat_minor": 5
}